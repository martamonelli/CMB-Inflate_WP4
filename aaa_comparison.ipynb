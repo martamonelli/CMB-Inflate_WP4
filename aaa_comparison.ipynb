{
 "cells": [
  {
   "cell_type": "markdown",
   "id": "42202020",
   "metadata": {},
   "source": [
    "# Comparing beamconv and ducc\n",
    "In this script, we check the agreement of the TOD returned by ducc and beamconv. Most of this script is based on [comparison_script.py](https://github.com/AdriJD/beamconv/blob/muellerconvolver_comparison/comparison_script.py) from the muellerconvolver_comparison branch in beamconv."
   ]
  },
  {
   "cell_type": "markdown",
   "id": "758cd4d4",
   "metadata": {},
   "source": [
    "First, we import a few useful libraries."
   ]
  },
  {
   "cell_type": "code",
   "execution_count": 1,
   "id": "6cfadad9",
   "metadata": {},
   "outputs": [],
   "source": [
    "import matplotlib\n",
    "import matplotlib.pyplot as plt\n",
    "import numpy as np\n",
    "import healpy as hp\n",
    "import mueller_convolver\n",
    "import ducc0"
   ]
  },
  {
   "cell_type": "markdown",
   "id": "060d28bf",
   "metadata": {},
   "source": [
    "And define a few useful functions."
   ]
  },
  {
   "cell_type": "code",
   "execution_count": 2,
   "id": "9c2f6f73",
   "metadata": {},
   "outputs": [],
   "source": [
    "def nalm(lmax, mmax):\n",
    "    return ((mmax+1)*(mmax+2))//2 + (mmax+1)*(lmax-mmax)\n",
    "\n",
    "def make_full_random_alm(lmax, mmax, rng):\n",
    "    res = rng.uniform(-1., 1., (4, nalm(lmax, mmax))) \\\n",
    "     + 1j*rng.uniform(-1., 1., (4, nalm(lmax, mmax)))\n",
    "    # make a_lm with m==0 real-valued\n",
    "    res[:, 0:lmax+1].imag = 0.\n",
    "    ofs=0\n",
    "    # components 1 and 2 are spin-2, fix them accordingly\n",
    "    spin=2\n",
    "    for s in range(spin):\n",
    "        res[1:3, ofs:ofs+spin-s] = 0.\n",
    "        ofs += lmax+1-s\n",
    "    return res\n",
    "\n",
    "# code by Marta to get beamconv results for user-specified angles\n",
    "def get_beamconv_values(lmax, kmax, slm, blm, ptg, hwp_angles, mueller,\n",
    "                        mu_con_hwp, mu_con_spin):\n",
    "    import beamconv\n",
    "    import qpoint as qp\n",
    "\n",
    "    # prepare PO beam file\n",
    "    blm2 = np.zeros((blm.shape[0], hp.Alm.getsize(lmax=lmax)), dtype=np.complex128)\n",
    "    blm2[:,:blm.shape[1]] = blm\n",
    "    blmm, blmp = beamconv.tools.eb2spin(blm2[1],blm2[2])\n",
    "    blm2[1] = blmm\n",
    "    blm2[2] = blmp\n",
    "    np.save(\"temp_beam.npy\", blm2)\n",
    "\n",
    "    # set up beam and HWP mueller matrix (identity, i.e. no HWP)\n",
    "    beam = beamconv.Beam(btype='PO', lmax=lmax, mmax=lmax, deconv_q=True, normalize=False, po_file=\"temp_beam.npy\", hwp_mueller=mueller)\n",
    "\n",
    "    nsamp = ptg.shape[0]\n",
    "\n",
    "    # from (theta,phi) to (ra,dec) convention\n",
    "    # also, all angles are converted to degrees\n",
    "    ra = np.degrees(ptg[:,1])\n",
    "    dec = 90. - np.degrees(ptg[:,0])\n",
    "    # Adjustment for difference in convention between qpoint and MuellerConvolver?\n",
    "    psi = 180. - np.degrees(ptg[:,2])\n",
    "\n",
    "    # calculate the quaternion\n",
    "    q_bore_array = qp.QPoint().radecpa2quat(ra, dec, psi)\n",
    "\n",
    "    def ctime_test(**kwargs):\n",
    "        return np.zeros(kwargs.pop('end')-kwargs.pop('start'))\n",
    "    \n",
    "    def q_bore_test(**kwargs):\n",
    "        return q_bore_array[kwargs.pop('start'):kwargs.pop('end')]\n",
    "\n",
    "    S = beamconv.ScanStrategy(duration=nsamp, sample_rate=1, external_pointing=True, use_l2_scan=False)\n",
    "    S.add_to_focal_plane(beam, combine=False)\n",
    "    S.set_hwp_mod(mode='stepped', freq=1, angles=hwp_angles*180/np.pi)\n",
    "\n",
    "    # determine nside_spin necessary for good accuracy\n",
    "    nside_spin = 1\n",
    "    while nside_spin < 4*lmax:\n",
    "        nside_spin *= 2\n",
    "\n",
    "    S.scan_instrument_mpi(slm.copy(), save_tod=True, ctime_func=ctime_test, q_bore_func=q_bore_test,\n",
    "                      ctime_kwargs={'useless':0}, q_bore_kwargs={'useless':0},nside_spin=nside_spin, interp=True, input_v=True, beam_v=True, max_spin=kmax+4, binning=False, verbose=0, mu_con_hwp=mu_con_hwp, mu_con_spin=mu_con_spin)\n",
    "\n",
    "    return S.data(S.chunks[0], beam=beam, data_type='tod').copy()"
   ]
  },
  {
   "cell_type": "markdown",
   "id": "caf9d39b",
   "metadata": {},
   "source": [
    "We set up some variables."
   ]
  },
  {
   "cell_type": "code",
   "execution_count": 3,
   "id": "cbd60a80",
   "metadata": {},
   "outputs": [],
   "source": [
    "np.random.seed(10)\n",
    "rng = np.random.default_rng(np.random.SeedSequence(42))\n",
    "nside = 16\n",
    "lmax = 30\n",
    "mmax = 2\n",
    "kmax = 18"
   ]
  },
  {
   "cell_type": "markdown",
   "id": "a8c2222b",
   "metadata": {},
   "source": [
    "And define completely random beam and sky spherical harmonics coefficients, together with a completely random Mueller matrix and pointings."
   ]
  },
  {
   "cell_type": "code",
   "execution_count": 4,
   "id": "9f541c17",
   "metadata": {},
   "outputs": [],
   "source": [
    "# completely random beam\n",
    "blm = make_full_random_alm(lmax, kmax, rng)"
   ]
  },
  {
   "cell_type": "code",
   "execution_count": 5,
   "id": "4a9b2312",
   "metadata": {},
   "outputs": [],
   "source": [
    "# completely random sky\n",
    "slm = make_full_random_alm(lmax, lmax, rng)"
   ]
  },
  {
   "cell_type": "code",
   "execution_count": 6,
   "id": "c06958ce",
   "metadata": {},
   "outputs": [],
   "source": [
    "# completely random Mueller matrix\n",
    "mueller = np.random.uniform(-1,1,size=(4,4))"
   ]
  },
  {
   "cell_type": "code",
   "execution_count": 7,
   "id": "3db5cae3",
   "metadata": {},
   "outputs": [],
   "source": [
    "# completely random pointings\n",
    "nptg=100\n",
    "ptg = np.empty((nptg,3))\n",
    "ptg[:,0]=np.random.uniform(0,np.pi,size=(nptg,))       # theta\n",
    "ptg[:,1]=np.random.uniform(0,2*np.pi,size=(nptg,))     # phi\n",
    "ptg[:,2]=np.random.uniform(0,2*np.pi,size=(nptg,))     # psi\n",
    "hwp_angles = np.random.uniform(0,2*np.pi,size=(nptg,)) # alpha"
   ]
  },
  {
   "cell_type": "markdown",
   "id": "5b8269ae",
   "metadata": {},
   "source": [
    "Finally, we simulate the TOD associated to the specifics we just introduced."
   ]
  },
  {
   "cell_type": "code",
   "execution_count": 8,
   "id": "4ae08d19",
   "metadata": {},
   "outputs": [],
   "source": [
    "# get the signal from beamconv\n",
    "signal_beamconv_TT = get_beamconv_values(lmax=lmax, kmax=kmax, slm=slm, blm=blm, ptg=ptg, hwp_angles=hwp_angles, mueller=mueller, mu_con_hwp=True, mu_con_spin=True)\n",
    "\n",
    "# now do the same thing with MuellerConvolver\n",
    "fullconv = mueller_convolver.MuellerConvolver(\n",
    "    lmax=lmax,\n",
    "    kmax=kmax,\n",
    "    slm=slm,\n",
    "    blm=blm,\n",
    "    mueller=mueller,\n",
    "    single_precision=False,\n",
    "    epsilon=1e-7,\n",
    "    nthreads=1,\n",
    ")\n",
    "signal_muellerconvolver = fullconv.signal(ptg=ptg, alpha=hwp_angles)"
   ]
  },
  {
   "cell_type": "markdown",
   "id": "716cfe99",
   "metadata": {},
   "source": [
    "To compare the two TOD, we print the L2 error and plot them, together with their difference."
   ]
  },
  {
   "cell_type": "code",
   "execution_count": 9,
   "id": "d3e772eb",
   "metadata": {},
   "outputs": [
    {
     "name": "stdout",
     "output_type": "stream",
     "text": [
      "L2 error to beamconv + HWP + spin: 0.05845322606612044\n"
     ]
    }
   ],
   "source": [
    "# L2 error\n",
    "print(\"L2 error to beamconv + HWP + spin:\", ducc0.misc.l2error(signal_beamconv_TT, signal_muellerconvolver))"
   ]
  },
  {
   "cell_type": "code",
   "execution_count": 10,
   "id": "b31736d5",
   "metadata": {},
   "outputs": [
    {
     "data": {
      "image/png": "[encoded data removed]",
      "text/plain": [
       "<Figure size 432x288 with 1 Axes>"
      ]
     },
     "metadata": {
      "needs_background": "light"
     },
     "output_type": "display_data"
    }
   ],
   "source": [
    "# plotting diff\n",
    "plt.plot(signal_muellerconvolver, color='gold', label=\"muellerconvolver\")\n",
    "plt.plot(signal_beamconv_TT, color='red', linestyle=':', label=\"beamconv\")\n",
    "plt.plot(signal_muellerconvolver-signal_beamconv_TT, color='black', label=\"difference\")\n",
    "plt.legend(loc='lower right')\n",
    "plt.show()"
   ]
  },
  {
   "cell_type": "markdown",
   "id": "e86a7336",
   "metadata": {},
   "source": [
    "<a style=\"color:Red;\">TODO: can we understand what causes the discrepancies?</a>"
   ]
  },
  {
   "cell_type": "code",
   "execution_count": 11,
   "id": "cdb44fe7",
   "metadata": {},
   "outputs": [
    {
     "data": {
      "text/plain": [
       "array([[129.91595714,  38.9029582 ,   9.09502036],\n",
       "       [177.77258548, 203.44548742,  98.92624737],\n",
       "       [137.38330569,  63.37516798, 115.61113133],\n",
       "       [  4.57196077, 267.36284783, 142.60240524],\n",
       "       [176.18744624,  74.14209301, 210.26011412],\n",
       "       [175.87453067, 236.06162738, 216.34351461],\n",
       "       [ 12.25750924, 141.63088048, 289.08271322]])"
      ]
     },
     "execution_count": 11,
     "metadata": {},
     "output_type": "execute_result"
    }
   ],
   "source": [
    "np.degrees(ptg[np.where(abs(signal_muellerconvolver-signal_beamconv_TT)/abs(signal_beamconv_TT)>0.1)])"
   ]
  },
  {
   "cell_type": "code",
   "execution_count": 12,
   "id": "fb3a083f",
   "metadata": {},
   "outputs": [
    {
     "data": {
      "text/plain": [
       "array([198.23788232,  47.53984582, 272.29764884, 115.76360978,\n",
       "        54.60711278, 129.77471166, 241.65248585])"
      ]
     },
     "execution_count": 12,
     "metadata": {},
     "output_type": "execute_result"
    }
   ],
   "source": [
    "np.degrees(hwp_angles[np.where(abs(signal_muellerconvolver-signal_beamconv_TT)/abs(signal_beamconv_TT)>0.11)])"
   ]
  },
  {
   "cell_type": "code",
   "execution_count": null,
   "id": "196751fb",
   "metadata": {},
   "outputs": [],
   "source": []
  }
 ],
 "metadata": {
  "kernelspec": {
   "display_name": "convolutions",
   "language": "python",
   "name": "convolutions"
  },
  "language_info": {
   "codemirror_mode": {
    "name": "ipython",
    "version": 3
   },
   "file_extension": ".py",
   "mimetype": "text/x-python",
   "name": "python",
   "nbconvert_exporter": "python",
   "pygments_lexer": "ipython3",
   "version": "3.8.0"
  }
 },
 "nbformat": 4,
 "nbformat_minor": 5
}
